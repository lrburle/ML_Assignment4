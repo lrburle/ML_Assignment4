{
  "cells": [
    {
      "cell_type": "markdown",
      "metadata": {},
      "source": [
        "# Assignment 4 - Landon Burleson\n",
        "\n",
        "## Problem 1 - Naive Bayes \n",
        "\n",
        "The following is the calculations used to find the conditional probability for the all features in\n",
        "the table data set.\n",
        "\n",
        "To find the conditional probability of the continuous values, the following Gaussian Naive Bayes\n",
        "formula is used: \n",
        "\n",
        "$$P(house) = 7 / 20 = 0.35$$\n",
        "$$P(condo) = 6 / 20 = 0.30$$\n",
        "$$P(apartment) = 7 / 20 = 0.35$$\n",
        "\n",
        "$$P(X | C = c_i) = \\frac{1}{\\sqrt{2*\\pi*\\sigma}} \\exp{\\frac{(-c_i - \\mu)^2}{2\\sigma^2}}$$\n",
        "\n",
        "Finding the variance and mean of the local price values for the three categories is given as the\n",
        "following: \n",
        "\n",
        "$$\\mu_{house(local_price)} = \\frac{(5.02 + 5.60 + 5.83 + 5.30 + 6.27 + 5.60 + 6.70)}{7}  = 5.76 $$\n",
        "$$\\mu_{condo(local_price)} = \\frac{(4.54 + 3.89 + 5.90 + 16.42 + 5.96 + 7.78)}{6} = 7.415$$\n",
        "$$\\mu_{apartment(local_price)} = \\frac{(4.92 + 4.56 + 5.06 + 14.46 + 5.05 + 8.25 + 9.04)}{7} = 7.33$$\n",
        "\n",
        "Variance for the local price is found with the following formula:\n",
        "$$\\sigma^2 = \\frac{1}{N}\\sum_{i=1}^N (X_i - \\mu)^2$$\n",
        "\n",
        "$$\\sigma^{2}_{house(local_price)} = \\frac{1}{7}\\sum_{i=1}^7 (X_i - 5.76)^2 = 13.07543601$$\n",
        "$$\\sigma^{2}_{condo(local_price)} = \\frac{1}{6}\\sum_{i=1}^6 (X_i - 7.415)^2 = 21.26360681$$\n",
        "$$\\sigma^{2}_{apartment(local_price)} = \\frac{1}{7}\\sum_{i=1}^7 (X_i - 7.33)^2 = 0.325038263$$\n",
        "\n",
        "The following table shows the mean and variance for the apartment category:\n",
        "\n",
        "### House Category Statistics\n",
        "|            | local price | Bathrooms | Land Area | Living Area | Garages | # Rooms | # Bedrooms | Age      |\n",
        "|------------|-------------|-----------|-----------|-------------|---------|---------|------------|----------|\n",
        "| $\\mu$      | 5.7607      | 1.0714    | 6.6309    | 1.3917      | 1.0714  | 6.1428  | 3.0000     | 34.2857  |\n",
        "| $\\sigma^2$ | 0.3250      | 0.0357    | 5.0578    | 0.0453      | 0.7023  | 0.4761  | 0.3333     | 161.9047 |\n",
        "\n",
        "### Condo Category Statistics\n",
        "|            | local price | Bathrooms | Land Area | Living Area | Garages | # Rooms | # Bedrooms | Age      |\n",
        "|------------|-------------|-----------|-----------|-------------|---------|---------|------------|----------|\n",
        "| $\\mu$      | 7.4159      | 1.3333    | 6.0246    | 1.5533      | 1.3333  | 6.8333  | 3.3333     | 39.6667  |\n",
        "| $\\sigma^2$ | 21.2636     | 0.3666    | 6.4758    | 0.8527      | 0.2666  | 2.5666  | 0.6667     | 194.6667 |\n",
        "\n",
        "### Apartment Category Statistics\n",
        "\n",
        "|            | local price | Bathrooms | Land Area | Living Area | Garages | # Rooms | # Bedrooms | Age      |\n",
        "|------------|-------------|-----------|-----------|-------------|---------|---------|------------|----------|\n",
        "| $\\mu$      | 7.3327      | 1.2857    | 6.1038    | 1.5050      | 1.2142  | 6.8571  | 3.4285     | 38.7142  |\n",
        "| $\\sigma^2$ | 13.0754     | 0.3214    | 10.6178   | 0.4957      | 0.4880  | 1.8095  | 0.9523     | 215.5714 |\n",
        "\n",
        "Utilizing the above statistics, we can make a prediction using the MAP operation:\n",
        "$$P(house|X) = P(house) * P(house | local price = x_i) * P(house | Bathrooms = x_i) * P(house | land\n",
        "area = x_i) * P(house | Living Area = x_i) * P(house | Garages = x_i) * P(house | Rooms = x_i) *\n",
        "P(house | Bedrooms = x_i) * P(house | Age = x_i)$$ \n",
        "\n",
        "$$P(condo|X) = P(condo) * P(condo | local price = x_i) * P(condo | Bathrooms = x_i) * P(condo | land\n",
        "area = x_i) * P(condo | Living Area = x_i) * P(condo | Garages = x_i) * P(condo | Rooms = x_i) *\n",
        "P(condo | Bedrooms = x_i) * P(condo | Age = x_i)$$ \n",
        "\n",
        "$$P(apartment|X) = P(apartment) * P(apartment | local price = x_i) * P(apartment | Bathrooms = x_i) * P(apartment | land\n",
        "area = x_i) * P(apartment | Living Area = x_i) * P(apartment | Garages = x_i) * P(apartment | Rooms = x_i) *\n",
        "P(apartment | Bedrooms = x_i) * P(apartment | Age = x_i)$$ \n"
      ]
    },
    {
      "cell_type": "code",
      "execution_count": null,
      "metadata": {},
      "outputs": [],
      "source": [
        "#Adding in the necessary modules needed to complete Assignment 4\n",
        "import numpy as np\n",
        "import matplotlib.pyplot as plt\n",
        "import sklearn as scikit\n",
        "import sys\n",
        "import pandas as pd\n",
        "import tensorflow as tf\n",
        "from tensorflow import keras"
      ]
    },
    {
      "cell_type": "markdown",
      "metadata": {},
      "source": [
        "## Problem 2 - Decision Trees\n"
      ]
    },
    {
      "cell_type": "code",
      "execution_count": 25,
      "metadata": {
        "id": "3iukuJrm9cz4"
      },
      "outputs": [],
      "source": [
        "#Adding in the necessary modules needed to complete Assignment 3\n",
        "import numpy as np\n",
        "import matplotlib.pyplot as plt\n",
        "import sklearn as scikit\n",
        "import sys\n",
        "import pandas as pd\n",
        "import tensorflow as tf\n",
        "from tensorflow import keras"
      ]
    }
  ],
  "metadata": {
    "accelerator": "GPU",
    "colab": {
      "collapsed_sections": [],
      "include_colab_link": true,
      "provenance": []
    },
    "gpuClass": "standard",
    "kernelspec": {
      "display_name": "Python 3.9.13 ('tf')",
      "language": "python",
      "name": "python3"
    },
    "language_info": {
      "codemirror_mode": {
        "name": "ipython",
        "version": 3
      },
      "file_extension": ".py",
      "mimetype": "text/x-python",
      "name": "python",
      "nbconvert_exporter": "python",
      "pygments_lexer": "ipython3",
      "version": "3.9.13"
    },
    "vscode": {
      "interpreter": {
        "hash": "b5e483efdb1a89e18921107af9ff2670b274f0fc9b1d1a5359c23834cf922d3b"
      }
    }
  },
  "nbformat": 4,
  "nbformat_minor": 0
}
